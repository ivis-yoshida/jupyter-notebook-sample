{
 "cells": [
  {
   "cell_type": "code",
   "execution_count": null,
   "id": "naughty-bullet",
   "metadata": {},
   "outputs": [],
   "source": [
    "!pip install openpyxl"
   ]
  },
  {
   "cell_type": "code",
   "execution_count": null,
   "id": "frequent-movement",
   "metadata": {},
   "outputs": [],
   "source": [
    "import json\n",
    "import openpyxl"
   ]
  },
  {
   "cell_type": "code",
   "execution_count": null,
   "id": "viral-threat",
   "metadata": {},
   "outputs": [],
   "source": [
    "MAPPING = {\n",
    "    \"title\": (5, 4),\n",
    "    \"contributor\": (4, 12),\n",
    "}"
   ]
  },
  {
   "cell_type": "code",
   "execution_count": null,
   "id": "potential-freight",
   "metadata": {},
   "outputs": [],
   "source": [
    "with open(\"dmp.json\") as f:\n",
    "    dmp = json.load(f)"
   ]
  },
  {
   "cell_type": "code",
   "execution_count": null,
   "id": "effective-rendering",
   "metadata": {},
   "outputs": [],
   "source": [
    "wb = openpyxl.load_workbook(\"Data_manegement_plan2.xlsx\")\n",
    "sheet = wb[\"様式\"]"
   ]
  },
  {
   "cell_type": "code",
   "execution_count": null,
   "id": "difficult-basic",
   "metadata": {},
   "outputs": [],
   "source": [
    "for k ,v in dmp.items():\n",
    "    y, x = MAPPING[k]\n",
    "    cell = sheet.cell(y, x)\n",
    "    cell.value = v"
   ]
  },
  {
   "cell_type": "code",
   "execution_count": null,
   "id": "satisfied-hours",
   "metadata": {},
   "outputs": [],
   "source": [
    "wb.save(\"output.xlsx\")"
   ]
  }
 ],
 "metadata": {
  "kernelspec": {
   "display_name": "Python 3",
   "language": "python",
   "name": "python3"
  },
  "language_info": {
   "codemirror_mode": {
    "name": "ipython",
    "version": 3
   },
   "file_extension": ".py",
   "mimetype": "text/x-python",
   "name": "python",
   "nbconvert_exporter": "python",
   "pygments_lexer": "ipython3",
   "version": "3.7.8"
  }
 },
 "nbformat": 4,
 "nbformat_minor": 5
}
