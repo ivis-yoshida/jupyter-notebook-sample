{
 "cells": [
  {
   "cell_type": "code",
   "execution_count": null,
   "id": "naughty-bullet",
   "metadata": {},
   "outputs": [],
   "source": [
    "!pip install openpyxl"
   ]
  },
  {
   "cell_type": "code",
   "execution_count": null,
   "id": "frequent-movement",
   "metadata": {},
   "outputs": [],
   "source": [
    "import json\n",
    "import openpyxl"
   ]
  },
  {
   "cell_type": "code",
   "execution_count": null,
   "id": "viral-threat",
   "metadata": {},
   "outputs": [],
   "source": [
    "MAPPING = {\n",
    "    \"agreementTitle\": (5, 4),\n",
    "    \"agreementDate\": (4, 4),\n",
    "    \"submitDate\": (3, 12),\n",
    "    \"corporateName\": (4, 12),\n",
    "    \"researches\": [\n",
    "        {\n",
    "            \"index\": (9, 2),\n",
    "            \"title\": (9, 3),\n",
    "            \"description\": (9, 4),\n",
    "            \"manager\": (9, 6),\n",
    "            \"dataType\": (9, 7),\n",
    "            \"releaseLevel\": (9, 8),\n",
    "            \"concealReason\": (9, 9),\n",
    "            \"concealPeriod\": (9, 10),\n",
    "            \"acquirer\": (9, 11),\n",
    "            \"acquireMethod\": (9, 12),\n",
    "            \"remarks\": (9, 13)\n",
    "        }\n",
    "    ]\n",
    "}"
   ]
  },
  {
   "cell_type": "code",
   "execution_count": null,
   "id": "potential-freight",
   "metadata": {},
   "outputs": [],
   "source": [
    "with open(\"dmp.json\") as f:\n",
    "    dmp = json.load(f)"
   ]
  },
  {
   "cell_type": "code",
   "execution_count": null,
   "id": "effective-rendering",
   "metadata": {},
   "outputs": [],
   "source": [
    "wb = openpyxl.load_workbook(\"Data_manegement_plan2.xlsx\")\n",
    "sheet = wb[\"様式\"]"
   ]
  },
  {
   "cell_type": "code",
   "execution_count": null,
   "id": "difficult-basic",
   "metadata": {},
   "outputs": [],
   "source": [
    "for k ,v in dmp.items():\n",
    "    if isinstance(v, str):\n",
    "        if k in MAPPING:\n",
    "            y, x = MAPPING.get(k)\n",
    "            cell = sheet.cell(y, x)\n",
    "            cell.value = v\n",
    "    elif isinstance(v, list):\n",
    "        for temp in v:\n",
    "            for k2, v2 in temp.items():\n",
    "                y, x = MAPPING[k][0][k2]\n",
    "                cell = sheet.cell(y, x)\n",
    "                cell.value = v2"
   ]
  },
  {
   "cell_type": "code",
   "execution_count": null,
   "id": "satisfied-hours",
   "metadata": {},
   "outputs": [],
   "source": [
    "wb.save(\"output.xlsx\")"
   ]
  }
 ],
 "metadata": {
  "kernelspec": {
   "display_name": "Python 3",
   "language": "python",
   "name": "python3"
  },
  "language_info": {
   "codemirror_mode": {
    "name": "ipython",
    "version": 3
   },
   "file_extension": ".py",
   "mimetype": "text/x-python",
   "name": "python",
   "nbconvert_exporter": "python",
   "pygments_lexer": "ipython3",
   "version": "3.7.10"
  }
 },
 "nbformat": 4,
 "nbformat_minor": 5
}
